{
 "cells": [
  {
   "cell_type": "markdown",
   "id": "ad2bcfe0",
   "metadata": {},
   "source": [
    "# 03 · Exploratory Analysis\n",
    "Inspect class balance and basic distributions."
   ]
  },
  {
   "cell_type": "code",
   "execution_count": 8,
   "id": "21e6fce3",
   "metadata": {},
   "outputs": [
    {
     "ename": "ModuleNotFoundError",
     "evalue": "No module named 'matplotlib'",
     "output_type": "error",
     "traceback": [
      "\u001b[31m---------------------------------------------------------------------------\u001b[39m",
      "\u001b[31mModuleNotFoundError\u001b[39m                       Traceback (most recent call last)",
      "\u001b[36mCell\u001b[39m\u001b[36m \u001b[39m\u001b[32mIn[8]\u001b[39m\u001b[32m, line 2\u001b[39m\n\u001b[32m      1\u001b[39m \u001b[38;5;28;01mimport\u001b[39;00m\u001b[38;5;250m \u001b[39m\u001b[34;01mpandas\u001b[39;00m\u001b[38;5;250m \u001b[39m\u001b[38;5;28;01mas\u001b[39;00m\u001b[38;5;250m \u001b[39m\u001b[34;01mpd\u001b[39;00m\n\u001b[32m----> \u001b[39m\u001b[32m2\u001b[39m \u001b[38;5;28;01mimport\u001b[39;00m\u001b[38;5;250m \u001b[39m\u001b[34;01mmatplotlib\u001b[39;00m\u001b[34;01m.\u001b[39;00m\u001b[34;01mpyplot\u001b[39;00m\u001b[38;5;250m \u001b[39m\u001b[38;5;28;01mas\u001b[39;00m\u001b[38;5;250m \u001b[39m\u001b[34;01mplt\u001b[39;00m\n\u001b[32m      4\u001b[39m FEAT_CSV = \u001b[33m\"\u001b[39m\u001b[33m../data/processed/features.csv\u001b[39m\u001b[33m\"\u001b[39m\n\u001b[32m      5\u001b[39m df = pd.read_csv(FEAT_CSV)\n",
      "\u001b[31mModuleNotFoundError\u001b[39m: No module named 'matplotlib'"
     ]
    }
   ],
   "source": [
    "\n",
    "import pandas as pd\n",
    "import matplotlib.pyplot as plt\n",
    "\n",
    "FEAT_CSV = \"../data/processed/features.csv\"\n",
    "df = pd.read_csv(FEAT_CSV)\n",
    "\n",
    "print(\"Rows:\", len(df))\n",
    "print(\"Delisted value counts:\")\n",
    "print(df[\"Delisted\"].value_counts(dropna=False))\n",
    "\n",
    "df[[\"lev_ratio_q1\",\"profit_margin_q1\",\"cashflow_ratio_q1\"]].hist(bins=30, figsize=(10,4))\n",
    "plt.tight_layout()\n",
    "plt.show()\n"
   ]
  },
  {
   "cell_type": "markdown",
   "id": "7c7ead83",
   "metadata": {},
   "source": [
    "Check correlations among numeric features."
   ]
  },
  {
   "cell_type": "code",
   "execution_count": null,
   "id": "59f4d505",
   "metadata": {},
   "outputs": [],
   "source": [
    "\n",
    "import seaborn as sns\n",
    "import numpy as np\n",
    "\n",
    "num_cols = [c for c in df.columns if df[c].dtype != object and c != \"Delisted\"]\n",
    "corr = df[num_cols + [\"Delisted\"]].corr(numeric_only=True)\n",
    "plt.figure(figsize=(8,6))\n",
    "sns.heatmap(corr, annot=False, cmap=\"viridis\")\n",
    "plt.show()\n"
   ]
  }
 ],
 "metadata": {
  "kernelspec": {
   "display_name": "Python (ipo_env)",
   "language": "python",
   "name": "ipo_env"
  },
  "language_info": {
   "codemirror_mode": {
    "name": "ipython",
    "version": 3
   },
   "file_extension": ".py",
   "mimetype": "text/x-python",
   "name": "python",
   "nbconvert_exporter": "python",
   "pygments_lexer": "ipython3",
   "version": "3.13.7"
  }
 },
 "nbformat": 4,
 "nbformat_minor": 5
}
