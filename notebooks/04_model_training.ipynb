{
 "cells": [
  {
   "cell_type": "markdown",
   "id": "c3aa593e",
   "metadata": {},
   "source": [
    "# 04 · Model Training with MLflow\n",
    "Train a baseline classifier and log to MLflow."
   ]
  },
  {
   "cell_type": "code",
   "execution_count": null,
   "id": "e459f175",
   "metadata": {},
   "outputs": [],
   "source": [
    "\n",
    "import pandas as pd\n",
    "import numpy as np\n",
    "from sklearn.model_selection import train_test_split\n",
    "from sklearn.compose import ColumnTransformer\n",
    "from sklearn.preprocessing import OneHotEncoder, StandardScaler\n",
    "from sklearn.pipeline import Pipeline\n",
    "from sklearn.linear_model import LogisticRegression\n",
    "from sklearn.metrics import roc_auc_score, classification_report\n",
    "import mlflow, mlflow.sklearn\n",
    "\n",
    "FEAT_CSV = \"/mnt/data/IPO_Databricks_Notebooks/features.csv\"\n",
    "df = pd.read_csv(FEAT_CSV)\n",
    "\n",
    "y = df[\"Delisted\"].values\n",
    "X = df.drop(columns=[\"Delisted\",\"ipoDate\",\"delistingDate\"], errors=\"ignore\")\n",
    "\n",
    "cat_cols = [c for c in X.columns if X[c].dtype == object]\n",
    "num_cols = [c for c in X.columns if c not in cat_cols]\n",
    "\n",
    "pre = ColumnTransformer([\n",
    "    (\"cats\", OneHotEncoder(handle_unknown=\"ignore\"), cat_cols),\n",
    "    (\"nums\", StandardScaler(), num_cols)\n",
    "])\n",
    "\n",
    "clf = LogisticRegression(max_iter=200)\n",
    "\n",
    "pipe = Pipeline([(\"pre\", pre), (\"clf\", clf)])\n",
    "\n",
    "X_train, X_test, y_train, y_test = train_test_split(X, y, test_size=0.2, stratify=y, random_state=42)\n",
    "\n",
    "with mlflow.start_run():\n",
    "    pipe.fit(X_train, y_train)\n",
    "    y_prob = pipe.predict_proba(X_test)[:,1]\n",
    "    y_pred = (y_prob >= 0.5).astype(int)\n",
    "\n",
    "    auc = roc_auc_score(y_test, y_prob)\n",
    "    print(\"AUC:\", auc)\n",
    "    print(classification_report(y_test, y_pred))\n",
    "\n",
    "    mlflow.log_metric(\"auc\", auc)\n",
    "    mlflow.sklearn.log_model(pipe, artifact_path=\"model\")\n"
   ]
  },
  {
   "cell_type": "markdown",
   "id": "16066d75",
   "metadata": {},
   "source": [
    "💡 You can run multiple experiments (try RandomForest/XGBoost) and compare **AUC** in MLflow."
   ]
  }
 ],
 "metadata": {},
 "nbformat": 4,
 "nbformat_minor": 5
}
